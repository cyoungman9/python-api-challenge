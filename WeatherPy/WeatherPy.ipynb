{
 "cells": [
  {
   "cell_type": "markdown",
   "metadata": {},
   "source": [
    "# WeatherPy\n",
    "----\n",
    "\n",
    "#### Note\n",
    "* Instructions have been included for each segment. You do not have to follow them exactly, but they are included to help you think through the steps."
   ]
  },
  {
   "cell_type": "code",
   "execution_count": 2,
   "metadata": {
    "scrolled": true
   },
   "outputs": [],
   "source": [
    "# Dependencies and Setup\n",
    "import matplotlib.pyplot as plt\n",
    "import pandas as pd\n",
    "import numpy as np\n",
    "import requests\n",
    "import time\n",
    "from scipy.stats import linregress\n",
    "\n",
    "# Import API key\n",
    "from config import api_key\n",
    "\n",
    "# Incorporated citipy to determine city based on latitude and longitude\n",
    "from citipy import citipy\n",
    "\n",
    "# Output File (CSV)\n",
    "output_data_file = \"output_data/cities.csv\"\n",
    "\n",
    "# Range of latitudes and longitudes\n",
    "lat_range = (-90, 90)\n",
    "lng_range = (-180, 180)"
   ]
  },
  {
   "cell_type": "code",
   "execution_count": 3,
   "metadata": {},
   "outputs": [
    {
     "name": "stdout",
     "output_type": "stream",
     "text": [
      "0eb3d9ec6d11c152a3075a96bf027022\n"
     ]
    }
   ],
   "source": [
    "print(api_key)"
   ]
  },
  {
   "cell_type": "markdown",
   "metadata": {},
   "source": [
    "## Generate Cities List"
   ]
  },
  {
   "cell_type": "code",
   "execution_count": 4,
   "metadata": {},
   "outputs": [
    {
     "data": {
      "text/plain": [
       "607"
      ]
     },
     "execution_count": 4,
     "metadata": {},
     "output_type": "execute_result"
    }
   ],
   "source": [
    "# List for holding lat_lngs and cities\n",
    "lat_lngs = []\n",
    "cities = []\n",
    "\n",
    "# Create a set of random lat and lng combinations\n",
    "lats = np.random.uniform(lat_range[0], lat_range[1], size=1500)\n",
    "lngs = np.random.uniform(lng_range[0], lng_range[1], size=1500)\n",
    "lat_lngs = zip(lats, lngs)\n",
    "\n",
    "# Identify nearest city for each lat, lng combination\n",
    "for lat_lng in lat_lngs:\n",
    "    city = citipy.nearest_city(lat_lng[0], lat_lng[1]).city_name\n",
    "    \n",
    "    # If the city is unique, then add it to a our cities list\n",
    "    if city not in cities:\n",
    "        cities.append(city)\n",
    "\n",
    "# Print the city count to confirm sufficient count\n",
    "len(cities)"
   ]
  },
  {
   "cell_type": "code",
   "execution_count": 5,
   "metadata": {},
   "outputs": [
    {
     "data": {
      "text/plain": [
       "{'coord': {'lon': 6.3542, 'lat': 59.6506},\n",
       " 'weather': [{'id': 804,\n",
       "   'main': 'Clouds',\n",
       "   'description': 'overcast clouds',\n",
       "   'icon': '04d'}],\n",
       " 'base': 'stations',\n",
       " 'main': {'temp': 289.64,\n",
       "  'feels_like': 289.8,\n",
       "  'temp_min': 289.64,\n",
       "  'temp_max': 289.64,\n",
       "  'pressure': 1012,\n",
       "  'humidity': 94,\n",
       "  'sea_level': 1012,\n",
       "  'grnd_level': 1011},\n",
       " 'visibility': 10000,\n",
       " 'wind': {'speed': 1.75, 'deg': 250, 'gust': 2.02},\n",
       " 'clouds': {'all': 100},\n",
       " 'dt': 1625949837,\n",
       " 'sys': {'type': 2,\n",
       "  'id': 2003794,\n",
       "  'country': 'NO',\n",
       "  'sunrise': 1625884365,\n",
       "  'sunset': 1625950004},\n",
       " 'timezone': 7200,\n",
       " 'id': 3140056,\n",
       " 'name': 'Sauda',\n",
       " 'cod': 200}"
      ]
     },
     "execution_count": 5,
     "metadata": {},
     "output_type": "execute_result"
    }
   ],
   "source": [
    "url = \"http://api.openweathermap.org/data/2.5/weather?\"\n",
    "city = \"sauda\"\n",
    "# Build query URL\n",
    "query_url = url + \"appid=\" + api_key + \"&q=\" + city\n",
    "response = requests.get(query_url).json()\n",
    "response"
   ]
  },
  {
   "cell_type": "markdown",
   "metadata": {},
   "source": [
    "### Perform API Calls\n",
    "* Perform a weather check on each city using a series of successive API calls.\n",
    "* Include a print log of each city as it'sbeing processed (with the city number and city name).\n"
   ]
  },
  {
   "cell_type": "code",
   "execution_count": 6,
   "metadata": {},
   "outputs": [
    {
     "data": {
      "text/plain": [
       "'http://api.openweathermap.org/data/2.5/weather?appid=0eb3d9ec6d11c152a3075a96bf027022&units=imperial&q='"
      ]
     },
     "execution_count": 6,
     "metadata": {},
     "output_type": "execute_result"
    }
   ],
   "source": [
    "url = \"http://api.openweathermap.org/data/2.5/weather?\"\n",
    "units = \"imperial\"\n",
    "\n",
    "# Build partial query URL\n",
    "query_url = f\"{url}appid={api_key}&units={units}&q=\"\n",
    "query_url"
   ]
  },
  {
   "cell_type": "code",
   "execution_count": 7,
   "metadata": {
    "scrolled": true
   },
   "outputs": [
    {
     "name": "stdout",
     "output_type": "stream",
     "text": [
      "mataura\n",
      "ribeira grande\n",
      "georgetown\n",
      "vaini\n",
      "cidreira\n",
      "tuktoyaktuk\n",
      "accra\n",
      "neyshabur\n",
      "novobelokatay\n",
      "port alfred\n",
      "bartica\n",
      "City not Found\n",
      "rikitea\n",
      "qaanaaq\n",
      "albany\n",
      "sindor\n",
      "kapaa\n",
      "kampot\n",
      "kodiak\n",
      "marawi\n",
      "senno\n",
      "krasnyy kommunar\n",
      "bredasdorp\n",
      "purificacion\n",
      "City not Found\n",
      "City not Found\n",
      "hilo\n",
      "norman wells\n",
      "ambon\n",
      "nkhata bay\n",
      "clyde river\n",
      "puerto ayora\n",
      "new norfolk\n",
      "mendi\n",
      "lodwar\n",
      "yulara\n",
      "ambositra\n",
      "provideniya\n",
      "coihaique\n",
      "ushuaia\n",
      "cape town\n",
      "bluff\n",
      "east london\n",
      "beaufort\n",
      "zherdevka\n",
      "mar del plata\n",
      "prince rupert\n",
      "geraldton\n",
      "zhumadian\n",
      "mitu\n",
      "beringovskiy\n",
      "chokurdakh\n",
      "City not Found\n",
      "kruisfontein\n",
      "lavrentiya\n",
      "nhulunbuy\n",
      "dikson\n",
      "barrow\n",
      "havelock\n",
      "matara\n",
      "broome\n",
      "hervey bay\n",
      "City not Found\n",
      "westport\n",
      "charlestown\n",
      "kaitangata\n",
      "rawson\n",
      "shelburne\n",
      "punta arenas\n",
      "yegorlykskaya\n",
      "union\n",
      "edwardsville\n",
      "busselton\n",
      "bethel\n",
      "smithers\n",
      "teodoro sampaio\n",
      "City not Found\n",
      "hobart\n",
      "filadelfia\n",
      "atuona\n",
      "aksu\n",
      "City not Found\n",
      "luis correia\n",
      "arraial do cabo\n",
      "jamestown\n",
      "kribi\n",
      "City not Found\n",
      "tuatapere\n",
      "saint-francois\n",
      "narsaq\n",
      "udachnyy\n",
      "walvis bay\n",
      "avarua\n",
      "kaeo\n",
      "zhizdra\n",
      "thompson\n",
      "yar-sale\n",
      "abu samrah\n",
      "mehamn\n",
      "nikolskoye\n",
      "City not Found\n",
      "bahir dar\n",
      "synya\n",
      "bilibino\n",
      "poum\n",
      "saint-philippe\n",
      "nanortalik\n",
      "san cristobal\n",
      "City not Found\n",
      "may pen\n",
      "upernavik\n",
      "ancud\n",
      "City not Found\n",
      "saint george\n",
      "sicamous\n",
      "port elizabeth\n",
      "lebu\n",
      "batagay\n",
      "kenai\n",
      "City not Found\n",
      "blankenberge\n",
      "hualmay\n",
      "leningradskiy\n",
      "vila franca do campo\n",
      "pisco\n",
      "faanui\n",
      "ust-maya\n",
      "saskylakh\n",
      "tafresh\n",
      "newport\n",
      "City not Found\n",
      "City not Found\n",
      "hoquiam\n",
      "hithadhoo\n",
      "roald\n",
      "hermanus\n",
      "City not Found\n",
      "victoria\n",
      "baruun-urt\n",
      "City not Found\n",
      "gloggnitz\n",
      "lompoc\n",
      "los llanos de aridane\n",
      "souillac\n",
      "san quintin\n",
      "erenhot\n",
      "ahipara\n",
      "ostrovnoy\n",
      "matoury\n",
      "fairbanks\n",
      "oktyabrskoye\n",
      "City not Found\n",
      "bambous virieux\n",
      "esperance\n",
      "nouadhibou\n",
      "pangnirtung\n",
      "give\n",
      "alice springs\n",
      "zhangzhou\n",
      "qandala\n",
      "guerrero negro\n",
      "City not Found\n",
      "oistins\n",
      "ketchikan\n",
      "havre\n",
      "camacha\n",
      "umm kaddadah\n",
      "queimadas\n",
      "bubaque\n",
      "coria\n",
      "meadow lake\n",
      "caboolture\n",
      "skibbereen\n",
      "tasiilaq\n",
      "altamira\n",
      "butaritari\n",
      "husavik\n",
      "ismailia\n",
      "pandan\n",
      "san ramon\n",
      "almaznyy\n",
      "paamiut\n",
      "sinnamary\n",
      "ponta do sol\n",
      "half moon bay\n",
      "black forest\n",
      "basco\n",
      "City not Found\n",
      "City not Found\n",
      "City not Found\n",
      "tura\n",
      "orcopampa\n",
      "City not Found\n",
      "cayenne\n",
      "alta floresta\n",
      "City not Found\n",
      "kavieng\n",
      "port hawkesbury\n",
      "kingaroy\n",
      "bucak\n",
      "quatre cocos\n",
      "City not Found\n",
      "genhe\n",
      "johnstown\n",
      "jiayuguan\n",
      "moose factory\n",
      "pathein\n",
      "freeport\n",
      "znamenskoye\n",
      "presidente medici\n",
      "City not Found\n",
      "moron\n",
      "lodja\n",
      "deoli\n",
      "kudahuvadhoo\n",
      "fukue\n",
      "City not Found\n",
      "naze\n",
      "sakaraha\n",
      "benxi\n",
      "yellowknife\n",
      "byron bay\n",
      "sitka\n",
      "samarai\n",
      "klamath falls\n",
      "hirara\n",
      "iqaluit\n",
      "aksarka\n",
      "bathsheba\n",
      "saldanha\n",
      "City not Found\n",
      "fortuna\n",
      "gorontalo\n",
      "portland\n",
      "isabela\n",
      "City not Found\n",
      "lasa\n",
      "tabuk\n",
      "gao\n",
      "sumbe\n",
      "komsomolskiy\n",
      "marzuq\n",
      "sept-iles\n",
      "longyearbyen\n",
      "airai\n",
      "grindavik\n",
      "campbell river\n",
      "City not Found\n",
      "revelstoke\n",
      "te anau\n",
      "tonstad\n",
      "karratha\n",
      "flin flon\n",
      "makakilo city\n",
      "the valley\n",
      "novikovo\n",
      "caravelas\n",
      "buritizeiro\n",
      "zunyi\n",
      "khatanga\n",
      "road town\n",
      "severnyy\n",
      "sistranda\n",
      "xinyu\n",
      "torbay\n",
      "warmbad\n",
      "City not Found\n",
      "abha\n",
      "bangassou\n",
      "sarakhs\n",
      "olafsvik\n",
      "wilmington\n",
      "garden city\n",
      "City not Found\n",
      "port lincoln\n",
      "adrar\n",
      "avera\n",
      "lewistown\n",
      "porto novo\n",
      "alpena\n",
      "watsa\n",
      "kataysk\n",
      "yenangyaung\n",
      "bengkulu\n",
      "korla\n",
      "sezze\n",
      "flinders\n",
      "garissa\n",
      "melfi\n",
      "bundaberg\n",
      "castro\n",
      "dunedin\n",
      "siyabuswa\n",
      "chernyshevskiy\n",
      "ilhabela\n",
      "vorukh\n",
      "chifeng\n",
      "mahebourg\n",
      "talnakh\n",
      "luderitz\n",
      "sur\n",
      "sao filipe\n",
      "southampton\n",
      "sikonge\n",
      "City not Found\n",
      "xiongzhou\n",
      "ust-ilimsk\n",
      "villa carlos paz\n",
      "bambanglipuro\n",
      "abu dhabi\n",
      "kieta\n",
      "villazon\n",
      "viedma\n",
      "marfino\n",
      "novi sanzhary\n",
      "greenfield\n",
      "nuuk\n",
      "ormara\n",
      "copiapo\n",
      "carnarvon\n",
      "anadyr\n",
      "City not Found\n",
      "msanga\n",
      "gouyave\n",
      "dodge city\n",
      "port blair\n",
      "cherskiy\n",
      "praia\n",
      "suntar\n",
      "City not Found\n",
      "vostok\n",
      "City not Found\n",
      "zhigansk\n",
      "puerto escondido\n",
      "City not Found\n",
      "City not Found\n",
      "grahamstown\n",
      "vinderup\n",
      "zlobin\n",
      "najran\n",
      "cabo san lucas\n",
      "ginir\n",
      "tianpeng\n",
      "chuy\n",
      "pozo colorado\n",
      "oranjemund\n",
      "maiduguri\n",
      "kungurtug\n",
      "sambalpur\n",
      "linqing\n",
      "ponta delgada\n",
      "lieksa\n",
      "severo-kurilsk\n",
      "llangefni\n",
      "san lawrenz\n",
      "jinxi\n",
      "svetlaya\n",
      "mantua\n",
      "tommot\n",
      "labrea\n",
      "seymchan\n",
      "viamao\n",
      "kasongo-lunda\n",
      "mazeikiai\n",
      "snezhnogorsk\n",
      "la rioja\n",
      "hofn\n",
      "salalah\n",
      "nanakuli\n",
      "tiksi\n",
      "puerto del rosario\n",
      "chaah\n",
      "aklavik\n",
      "City not Found\n",
      "itarema\n",
      "City not Found\n",
      "City not Found\n",
      "mandalgovi\n",
      "mezhova\n",
      "tandur\n",
      "hua hin\n",
      "City not Found\n",
      "hameenlinna\n",
      "palmer\n",
      "qaqortoq\n",
      "City not Found\n",
      "pevek\n",
      "guisijan\n",
      "City not Found\n",
      "vila velha\n",
      "elizabeth city\n",
      "uige\n",
      "City not Found\n",
      "yerbogachen\n",
      "codrington\n",
      "lovozero\n",
      "huatulco\n",
      "dubbo\n",
      "saint-pierre\n",
      "seoul\n",
      "olga\n",
      "myitkyina\n",
      "menongue\n",
      "amuntai\n",
      "verkhniye tatyshly\n",
      "port hedland\n",
      "taoudenni\n",
      "kathmandu\n",
      "devli\n",
      "halifax\n",
      "xinqing\n",
      "City not Found\n",
      "ucluelet\n",
      "tolbazy\n",
      "amalapuram\n",
      "le moule\n",
      "ekibastuz\n",
      "plettenberg bay\n",
      "oiso\n",
      "santiago del estero\n",
      "City not Found\n",
      "longhua\n",
      "harper\n",
      "City not Found\n",
      "sorong\n",
      "City not Found\n",
      "rabak\n",
      "sembe\n",
      "campoverde\n",
      "City not Found\n",
      "tucurui\n",
      "alyangula\n",
      "raudeberg\n",
      "turiacu\n",
      "brigham city\n",
      "pacifica\n",
      "bacolod\n",
      "kachiry\n",
      "kushiro\n",
      "vestmannaeyjar\n",
      "nazarovo\n",
      "City not Found\n",
      "vao\n",
      "isangel\n",
      "wucheng\n",
      "baishishan\n",
      "constitucion\n",
      "yilan\n",
      "port macquarie\n",
      "brookline\n",
      "havoysund\n",
      "warri\n",
      "kahului\n",
      "asau\n",
      "leninskoye\n",
      "dhidhdhoo\n",
      "anito\n",
      "channel-port aux basques\n",
      "yanam\n",
      "City not Found\n",
      "kuryk\n",
      "nacala\n",
      "praya\n",
      "meulaboh\n",
      "pacific grove\n",
      "volksrust\n",
      "vardo\n",
      "City not Found\n",
      "lentekhi\n",
      "kajaani\n",
      "high level\n",
      "san pedro\n",
      "lorengau\n",
      "tabou\n",
      "rio gallegos\n",
      "soyo\n",
      "City not Found\n",
      "palana\n",
      "camacupa\n",
      "kununurra\n",
      "mayo\n",
      "oksfjord\n",
      "albert\n",
      "bhabua\n",
      "dhadar\n",
      "praia da vitoria\n",
      "salym\n",
      "labuhan\n",
      "muros\n",
      "caohai\n",
      "odienne\n",
      "shegaon\n",
      "City not Found\n",
      "touros\n",
      "seydisehir\n",
      "bhadrak\n",
      "haines junction\n",
      "laguna\n",
      "zhezkazgan\n",
      "hami\n",
      "nadapuram\n",
      "new braunfels\n",
      "lira\n",
      "skjervoy\n",
      "san patricio\n",
      "katsuura\n",
      "tilichiki\n",
      "turayf\n",
      "lagoa\n",
      "jiuquan\n",
      "City not Found\n",
      "rodino\n",
      "bellevue\n",
      "sanming\n",
      "jumla\n",
      "lata\n",
      "peterhead\n",
      "City not Found\n",
      "modasa\n",
      "tarakan\n",
      "kharp\n",
      "balykshi\n",
      "sikasso\n",
      "morehead\n",
      "klaksvik\n",
      "dawson creek\n",
      "City not Found\n",
      "City not Found\n",
      "tautira\n",
      "mogwase\n",
      "grants pass\n",
      "oranjestad\n",
      "stykkisholmur\n",
      "biggar\n",
      "filotion\n",
      "novogornyy\n",
      "murdochville\n",
      "sao joao da barra\n",
      "discovery bay\n",
      "severnoye\n",
      "dingle\n",
      "balkhash\n",
      "velizh\n",
      "ereymentau\n",
      "maniitsoq\n",
      "camocim\n",
      "aksha\n",
      "satipo\n",
      "redmond\n",
      "maceio\n",
      "singaraja\n",
      "ellisras\n",
      "City not Found\n",
      "waipawa\n",
      "atar\n",
      "ayagoz\n",
      "ust-nera\n",
      "dawlatabad\n",
      "adre\n",
      "nishihara\n",
      "saint-joseph\n",
      "miraflores\n",
      "jerome\n",
      "trairi\n",
      "City not Found\n",
      "skagen\n",
      "koslan\n",
      "mazyr\n",
      "sile\n",
      "City not Found\n",
      "wewak\n",
      "City not Found\n",
      "ornes\n",
      "City not Found\n",
      "grand gaube\n",
      "verkh-usugli\n",
      "glace bay\n",
      "vinstra\n",
      "arlit\n",
      "planadas\n",
      "callaguip\n",
      "vega de alatorre\n",
      "dabat\n",
      "gumdag\n",
      "aljezur\n",
      "salinopolis\n",
      "pita\n",
      "port keats\n",
      "lewiston\n",
      "rafai\n",
      "cap-aux-meules\n",
      "jining\n",
      "City not Found\n",
      "columbia\n",
      "tigil\n",
      "eureka\n",
      "cravo norte\n",
      "City not Found\n",
      "bedele\n",
      "urumqi\n",
      "sibolga\n",
      "namatanai\n",
      "mercedes\n",
      "egvekinot\n",
      "bac lieu\n",
      "biak\n",
      "ossora\n"
     ]
    }
   ],
   "source": [
    "# set up lists to hold reponse info\n",
    "lat = []\n",
    "lng = []\n",
    "temp = []\n",
    "cloudiness = []\n",
    "humidity = []\n",
    "wind_speed = []\n",
    "country = []\n",
    "date = []\n",
    "cityname = []\n",
    "\n",
    "# Loop through the list of cities and perform a request for data on each\n",
    "for city in cities:\n",
    "    try:\n",
    "        response = requests.get(query_url + city).json()\n",
    "        lat.append(response['coord']['lat'])\n",
    "        temp.append(response['main']['temp'])\n",
    "        lng.append(response['coord']['lon'])\n",
    "        humidity.append(response['main']['humidity'])\n",
    "        wind_speed.append(response['wind']['speed'])\n",
    "        cloudiness.append(response['clouds']['all'])\n",
    "        country.append(response['sys']['country'])\n",
    "        date.append(response['dt'])\n",
    "        cityname.append(city)\n",
    "        print(city)\n",
    "    except:\n",
    "        print(\"City not Found\")"
   ]
  },
  {
   "cell_type": "markdown",
   "metadata": {},
   "source": [
    "### Convert Raw Data to DataFrame\n",
    "* Export the city data into a .csv.\n",
    "* Display the DataFrame"
   ]
  },
  {
   "cell_type": "code",
   "execution_count": 8,
   "metadata": {},
   "outputs": [
    {
     "data": {
      "text/html": [
       "<div>\n",
       "<style scoped>\n",
       "    .dataframe tbody tr th:only-of-type {\n",
       "        vertical-align: middle;\n",
       "    }\n",
       "\n",
       "    .dataframe tbody tr th {\n",
       "        vertical-align: top;\n",
       "    }\n",
       "\n",
       "    .dataframe thead th {\n",
       "        text-align: right;\n",
       "    }\n",
       "</style>\n",
       "<table border=\"1\" class=\"dataframe\">\n",
       "  <thead>\n",
       "    <tr style=\"text-align: right;\">\n",
       "      <th></th>\n",
       "      <th>City Name</th>\n",
       "      <th>Country</th>\n",
       "      <th>Date</th>\n",
       "      <th>Latitude</th>\n",
       "      <th>Longitude</th>\n",
       "      <th>Temperature</th>\n",
       "      <th>Cloudiness</th>\n",
       "      <th>Humidity</th>\n",
       "      <th>Wind Speed</th>\n",
       "    </tr>\n",
       "  </thead>\n",
       "  <tbody>\n",
       "    <tr>\n",
       "      <th>0</th>\n",
       "      <td>mataura</td>\n",
       "      <td>NZ</td>\n",
       "      <td>1625949840</td>\n",
       "      <td>-46.1927</td>\n",
       "      <td>168.8643</td>\n",
       "      <td>38.16</td>\n",
       "      <td>98</td>\n",
       "      <td>99</td>\n",
       "      <td>3.36</td>\n",
       "    </tr>\n",
       "    <tr>\n",
       "      <th>1</th>\n",
       "      <td>ribeira grande</td>\n",
       "      <td>PT</td>\n",
       "      <td>1625949840</td>\n",
       "      <td>38.5167</td>\n",
       "      <td>-28.7000</td>\n",
       "      <td>72.00</td>\n",
       "      <td>40</td>\n",
       "      <td>68</td>\n",
       "      <td>11.50</td>\n",
       "    </tr>\n",
       "    <tr>\n",
       "      <th>2</th>\n",
       "      <td>georgetown</td>\n",
       "      <td>MY</td>\n",
       "      <td>1625949780</td>\n",
       "      <td>5.4112</td>\n",
       "      <td>100.3354</td>\n",
       "      <td>77.76</td>\n",
       "      <td>20</td>\n",
       "      <td>93</td>\n",
       "      <td>1.01</td>\n",
       "    </tr>\n",
       "    <tr>\n",
       "      <th>3</th>\n",
       "      <td>vaini</td>\n",
       "      <td>TO</td>\n",
       "      <td>1625949840</td>\n",
       "      <td>-21.2000</td>\n",
       "      <td>-175.2000</td>\n",
       "      <td>69.96</td>\n",
       "      <td>75</td>\n",
       "      <td>94</td>\n",
       "      <td>5.75</td>\n",
       "    </tr>\n",
       "    <tr>\n",
       "      <th>4</th>\n",
       "      <td>cidreira</td>\n",
       "      <td>BR</td>\n",
       "      <td>1625949840</td>\n",
       "      <td>-30.1811</td>\n",
       "      <td>-50.2056</td>\n",
       "      <td>63.59</td>\n",
       "      <td>84</td>\n",
       "      <td>77</td>\n",
       "      <td>3.83</td>\n",
       "    </tr>\n",
       "    <tr>\n",
       "      <th>...</th>\n",
       "      <td>...</td>\n",
       "      <td>...</td>\n",
       "      <td>...</td>\n",
       "      <td>...</td>\n",
       "      <td>...</td>\n",
       "      <td>...</td>\n",
       "      <td>...</td>\n",
       "      <td>...</td>\n",
       "      <td>...</td>\n",
       "    </tr>\n",
       "    <tr>\n",
       "      <th>537</th>\n",
       "      <td>mercedes</td>\n",
       "      <td>AR</td>\n",
       "      <td>1625950019</td>\n",
       "      <td>-34.6515</td>\n",
       "      <td>-59.4307</td>\n",
       "      <td>56.21</td>\n",
       "      <td>0</td>\n",
       "      <td>48</td>\n",
       "      <td>6.02</td>\n",
       "    </tr>\n",
       "    <tr>\n",
       "      <th>538</th>\n",
       "      <td>egvekinot</td>\n",
       "      <td>RU</td>\n",
       "      <td>1625950019</td>\n",
       "      <td>66.3167</td>\n",
       "      <td>-179.1667</td>\n",
       "      <td>49.26</td>\n",
       "      <td>55</td>\n",
       "      <td>76</td>\n",
       "      <td>4.90</td>\n",
       "    </tr>\n",
       "    <tr>\n",
       "      <th>539</th>\n",
       "      <td>bac lieu</td>\n",
       "      <td>VN</td>\n",
       "      <td>1625950019</td>\n",
       "      <td>9.2850</td>\n",
       "      <td>105.7244</td>\n",
       "      <td>79.99</td>\n",
       "      <td>69</td>\n",
       "      <td>79</td>\n",
       "      <td>2.10</td>\n",
       "    </tr>\n",
       "    <tr>\n",
       "      <th>540</th>\n",
       "      <td>biak</td>\n",
       "      <td>ID</td>\n",
       "      <td>1625950019</td>\n",
       "      <td>-0.9131</td>\n",
       "      <td>122.8766</td>\n",
       "      <td>75.07</td>\n",
       "      <td>100</td>\n",
       "      <td>89</td>\n",
       "      <td>5.37</td>\n",
       "    </tr>\n",
       "    <tr>\n",
       "      <th>541</th>\n",
       "      <td>ossora</td>\n",
       "      <td>RU</td>\n",
       "      <td>1625950020</td>\n",
       "      <td>59.2353</td>\n",
       "      <td>163.0719</td>\n",
       "      <td>61.07</td>\n",
       "      <td>99</td>\n",
       "      <td>66</td>\n",
       "      <td>1.12</td>\n",
       "    </tr>\n",
       "  </tbody>\n",
       "</table>\n",
       "<p>542 rows × 9 columns</p>\n",
       "</div>"
      ],
      "text/plain": [
       "          City Name Country        Date  Latitude  Longitude  Temperature  \\\n",
       "0           mataura      NZ  1625949840  -46.1927   168.8643        38.16   \n",
       "1    ribeira grande      PT  1625949840   38.5167   -28.7000        72.00   \n",
       "2        georgetown      MY  1625949780    5.4112   100.3354        77.76   \n",
       "3             vaini      TO  1625949840  -21.2000  -175.2000        69.96   \n",
       "4          cidreira      BR  1625949840  -30.1811   -50.2056        63.59   \n",
       "..              ...     ...         ...       ...        ...          ...   \n",
       "537        mercedes      AR  1625950019  -34.6515   -59.4307        56.21   \n",
       "538       egvekinot      RU  1625950019   66.3167  -179.1667        49.26   \n",
       "539        bac lieu      VN  1625950019    9.2850   105.7244        79.99   \n",
       "540            biak      ID  1625950019   -0.9131   122.8766        75.07   \n",
       "541          ossora      RU  1625950020   59.2353   163.0719        61.07   \n",
       "\n",
       "     Cloudiness  Humidity  Wind Speed  \n",
       "0            98        99        3.36  \n",
       "1            40        68       11.50  \n",
       "2            20        93        1.01  \n",
       "3            75        94        5.75  \n",
       "4            84        77        3.83  \n",
       "..          ...       ...         ...  \n",
       "537           0        48        6.02  \n",
       "538          55        76        4.90  \n",
       "539          69        79        2.10  \n",
       "540         100        89        5.37  \n",
       "541          99        66        1.12  \n",
       "\n",
       "[542 rows x 9 columns]"
      ]
     },
     "execution_count": 8,
     "metadata": {},
     "output_type": "execute_result"
    }
   ],
   "source": [
    "weather_df = pd.DataFrame({\"City Name\":cityname,\n",
    "                          \"Country\":country,\n",
    "                          \"Date\": date,\n",
    "                          \"Latitude\": lat,\n",
    "                          \"Longitude\": lng,\n",
    "                          \"Temperature\": temp,\n",
    "                          \"Cloudiness\": cloudiness,\n",
    "                          \"Humidity\": humidity,\n",
    "                          \"Wind Speed\": wind_speed,})\n",
    "weather_df"
   ]
  },
  {
   "cell_type": "markdown",
   "metadata": {},
   "source": [
    "## Inspect the data and remove the cities where the humidity > 100%.\n",
    "----\n",
    "Skip this step if there are no cities that have humidity > 100%. "
   ]
  },
  {
   "cell_type": "code",
   "execution_count": 9,
   "metadata": {},
   "outputs": [
    {
     "data": {
      "text/html": [
       "<div>\n",
       "<style scoped>\n",
       "    .dataframe tbody tr th:only-of-type {\n",
       "        vertical-align: middle;\n",
       "    }\n",
       "\n",
       "    .dataframe tbody tr th {\n",
       "        vertical-align: top;\n",
       "    }\n",
       "\n",
       "    .dataframe thead th {\n",
       "        text-align: right;\n",
       "    }\n",
       "</style>\n",
       "<table border=\"1\" class=\"dataframe\">\n",
       "  <thead>\n",
       "    <tr style=\"text-align: right;\">\n",
       "      <th></th>\n",
       "      <th>City Name</th>\n",
       "      <th>Country</th>\n",
       "      <th>Date</th>\n",
       "      <th>Latitude</th>\n",
       "      <th>Longitude</th>\n",
       "      <th>Temperature</th>\n",
       "      <th>Cloudiness</th>\n",
       "      <th>Humidity</th>\n",
       "      <th>Wind Speed</th>\n",
       "    </tr>\n",
       "  </thead>\n",
       "  <tbody>\n",
       "  </tbody>\n",
       "</table>\n",
       "</div>"
      ],
      "text/plain": [
       "Empty DataFrame\n",
       "Columns: [City Name, Country, Date, Latitude, Longitude, Temperature, Cloudiness, Humidity, Wind Speed]\n",
       "Index: []"
      ]
     },
     "execution_count": 9,
     "metadata": {},
     "output_type": "execute_result"
    }
   ],
   "source": [
    "weather_df.loc[weather_df[\"Humidity\"]> 100]"
   ]
  },
  {
   "cell_type": "code",
   "execution_count": null,
   "metadata": {},
   "outputs": [],
   "source": [
    "#  Get the indices of cities that have humidity over 100%.\n"
   ]
  },
  {
   "cell_type": "code",
   "execution_count": null,
   "metadata": {},
   "outputs": [],
   "source": [
    "# Make a new DataFrame equal to the city data to drop all humidity outliers by index.\n",
    "# Passing \"inplace=False\" will make a copy of the city_data DataFrame, which we call \"clean_city_data\".\n"
   ]
  },
  {
   "cell_type": "code",
   "execution_count": null,
   "metadata": {},
   "outputs": [],
   "source": [
    "\n"
   ]
  },
  {
   "cell_type": "markdown",
   "metadata": {},
   "source": [
    "## Plotting the Data\n",
    "* Use proper labeling of the plots using plot titles (including date of analysis) and axes labels.\n",
    "* Save the plotted figures as .pngs."
   ]
  },
  {
   "cell_type": "markdown",
   "metadata": {},
   "source": [
    "## Latitude vs. Temperature Plot"
   ]
  },
  {
   "cell_type": "code",
   "execution_count": 10,
   "metadata": {
    "scrolled": true
   },
   "outputs": [
    {
     "data": {
      "image/png": "[encoded data removed]",
      "text/plain": [
       "<Figure size 432x288 with 1 Axes>"
      ]
     },
     "metadata": {
      "needs_background": "light"
     },
     "output_type": "display_data"
    }
   ],
   "source": [
    "plt.scatter(weather_df[\"Latitude\"],weather_df[\"Temperature\"] )\n",
    "plt.show()"
   ]
  },
  {
   "cell_type": "markdown",
   "metadata": {},
   "source": [
    "## Latitude vs. Humidity Plot"
   ]
  },
  {
   "cell_type": "code",
   "execution_count": 11,
   "metadata": {},
   "outputs": [
    {
     "data": {
      "image/png": "[encoded data removed]",
      "text/plain": [
       "<Figure size 432x288 with 1 Axes>"
      ]
     },
     "metadata": {
      "needs_background": "light"
     },
     "output_type": "display_data"
    }
   ],
   "source": [
    "plt.scatter(weather_df[\"Latitude\"],weather_df[\"Humidity\"] )\n",
    "plt.show()"
   ]
  },
  {
   "cell_type": "markdown",
   "metadata": {},
   "source": [
    "## Latitude vs. Cloudiness Plot"
   ]
  },
  {
   "cell_type": "code",
   "execution_count": 12,
   "metadata": {},
   "outputs": [
    {
     "data": {
      "image/png": "[encoded data removed]",
      "text/plain": [
       "<Figure size 432x288 with 1 Axes>"
      ]
     },
     "metadata": {
      "needs_background": "light"
     },
     "output_type": "display_data"
    }
   ],
   "source": [
    "plt.scatter(weather_df[\"Latitude\"],weather_df[\"Cloudiness\"] )\n",
    "plt.show()"
   ]
  },
  {
   "cell_type": "markdown",
   "metadata": {},
   "source": [
    "## Latitude vs. Wind Speed Plot"
   ]
  },
  {
   "cell_type": "code",
   "execution_count": 13,
   "metadata": {},
   "outputs": [
    {
     "data": {
      "image/png": "[encoded data removed]",
      "text/plain": [
       "<Figure size 432x288 with 1 Axes>"
      ]
     },
     "metadata": {
      "needs_background": "light"
     },
     "output_type": "display_data"
    }
   ],
   "source": [
    "plt.scatter(weather_df[\"Latitude\"],weather_df[\"Wind Speed\"] )\n",
    "plt.show()"
   ]
  },
  {
   "cell_type": "markdown",
   "metadata": {},
   "source": [
    "## Linear Regression"
   ]
  },
  {
   "cell_type": "code",
   "execution_count": 14,
   "metadata": {},
   "outputs": [
    {
     "data": {
      "text/html": [
       "<div>\n",
       "<style scoped>\n",
       "    .dataframe tbody tr th:only-of-type {\n",
       "        vertical-align: middle;\n",
       "    }\n",
       "\n",
       "    .dataframe tbody tr th {\n",
       "        vertical-align: top;\n",
       "    }\n",
       "\n",
       "    .dataframe thead th {\n",
       "        text-align: right;\n",
       "    }\n",
       "</style>\n",
       "<table border=\"1\" class=\"dataframe\">\n",
       "  <thead>\n",
       "    <tr style=\"text-align: right;\">\n",
       "      <th></th>\n",
       "      <th>City Name</th>\n",
       "      <th>Country</th>\n",
       "      <th>Date</th>\n",
       "      <th>Latitude</th>\n",
       "      <th>Longitude</th>\n",
       "      <th>Temperature</th>\n",
       "      <th>Cloudiness</th>\n",
       "      <th>Humidity</th>\n",
       "      <th>Wind Speed</th>\n",
       "    </tr>\n",
       "  </thead>\n",
       "  <tbody>\n",
       "    <tr>\n",
       "      <th>1</th>\n",
       "      <td>ribeira grande</td>\n",
       "      <td>PT</td>\n",
       "      <td>1625949840</td>\n",
       "      <td>38.5167</td>\n",
       "      <td>-28.7000</td>\n",
       "      <td>72.00</td>\n",
       "      <td>40</td>\n",
       "      <td>68</td>\n",
       "      <td>11.50</td>\n",
       "    </tr>\n",
       "    <tr>\n",
       "      <th>2</th>\n",
       "      <td>georgetown</td>\n",
       "      <td>MY</td>\n",
       "      <td>1625949780</td>\n",
       "      <td>5.4112</td>\n",
       "      <td>100.3354</td>\n",
       "      <td>77.76</td>\n",
       "      <td>20</td>\n",
       "      <td>93</td>\n",
       "      <td>1.01</td>\n",
       "    </tr>\n",
       "    <tr>\n",
       "      <th>5</th>\n",
       "      <td>tuktoyaktuk</td>\n",
       "      <td>CA</td>\n",
       "      <td>1625949841</td>\n",
       "      <td>69.4541</td>\n",
       "      <td>-133.0374</td>\n",
       "      <td>60.80</td>\n",
       "      <td>40</td>\n",
       "      <td>67</td>\n",
       "      <td>5.75</td>\n",
       "    </tr>\n",
       "    <tr>\n",
       "      <th>6</th>\n",
       "      <td>accra</td>\n",
       "      <td>GH</td>\n",
       "      <td>1625949841</td>\n",
       "      <td>5.5560</td>\n",
       "      <td>-0.1969</td>\n",
       "      <td>79.21</td>\n",
       "      <td>75</td>\n",
       "      <td>78</td>\n",
       "      <td>10.36</td>\n",
       "    </tr>\n",
       "    <tr>\n",
       "      <th>7</th>\n",
       "      <td>neyshabur</td>\n",
       "      <td>IR</td>\n",
       "      <td>1625949842</td>\n",
       "      <td>36.2133</td>\n",
       "      <td>58.7958</td>\n",
       "      <td>76.80</td>\n",
       "      <td>1</td>\n",
       "      <td>32</td>\n",
       "      <td>4.74</td>\n",
       "    </tr>\n",
       "  </tbody>\n",
       "</table>\n",
       "</div>"
      ],
      "text/plain": [
       "        City Name Country        Date  Latitude  Longitude  Temperature  \\\n",
       "1  ribeira grande      PT  1625949840   38.5167   -28.7000        72.00   \n",
       "2      georgetown      MY  1625949780    5.4112   100.3354        77.76   \n",
       "5     tuktoyaktuk      CA  1625949841   69.4541  -133.0374        60.80   \n",
       "6           accra      GH  1625949841    5.5560    -0.1969        79.21   \n",
       "7       neyshabur      IR  1625949842   36.2133    58.7958        76.80   \n",
       "\n",
       "   Cloudiness  Humidity  Wind Speed  \n",
       "1          40        68       11.50  \n",
       "2          20        93        1.01  \n",
       "5          40        67        5.75  \n",
       "6          75        78       10.36  \n",
       "7           1        32        4.74  "
      ]
     },
     "execution_count": 14,
     "metadata": {},
     "output_type": "execute_result"
    }
   ],
   "source": [
    "n_df = weather_df.loc[weather_df[\"Latitude\"] >= 0]\n",
    "n_df.head()"
   ]
  },
  {
   "cell_type": "code",
   "execution_count": 15,
   "metadata": {},
   "outputs": [
    {
     "data": {
      "text/html": [
       "<div>\n",
       "<style scoped>\n",
       "    .dataframe tbody tr th:only-of-type {\n",
       "        vertical-align: middle;\n",
       "    }\n",
       "\n",
       "    .dataframe tbody tr th {\n",
       "        vertical-align: top;\n",
       "    }\n",
       "\n",
       "    .dataframe thead th {\n",
       "        text-align: right;\n",
       "    }\n",
       "</style>\n",
       "<table border=\"1\" class=\"dataframe\">\n",
       "  <thead>\n",
       "    <tr style=\"text-align: right;\">\n",
       "      <th></th>\n",
       "      <th>City Name</th>\n",
       "      <th>Country</th>\n",
       "      <th>Date</th>\n",
       "      <th>Latitude</th>\n",
       "      <th>Longitude</th>\n",
       "      <th>Temperature</th>\n",
       "      <th>Cloudiness</th>\n",
       "      <th>Humidity</th>\n",
       "      <th>Wind Speed</th>\n",
       "    </tr>\n",
       "  </thead>\n",
       "  <tbody>\n",
       "    <tr>\n",
       "      <th>0</th>\n",
       "      <td>mataura</td>\n",
       "      <td>NZ</td>\n",
       "      <td>1625949840</td>\n",
       "      <td>-46.1927</td>\n",
       "      <td>168.8643</td>\n",
       "      <td>38.16</td>\n",
       "      <td>98</td>\n",
       "      <td>99</td>\n",
       "      <td>3.36</td>\n",
       "    </tr>\n",
       "    <tr>\n",
       "      <th>3</th>\n",
       "      <td>vaini</td>\n",
       "      <td>TO</td>\n",
       "      <td>1625949840</td>\n",
       "      <td>-21.2000</td>\n",
       "      <td>-175.2000</td>\n",
       "      <td>69.96</td>\n",
       "      <td>75</td>\n",
       "      <td>94</td>\n",
       "      <td>5.75</td>\n",
       "    </tr>\n",
       "    <tr>\n",
       "      <th>4</th>\n",
       "      <td>cidreira</td>\n",
       "      <td>BR</td>\n",
       "      <td>1625949840</td>\n",
       "      <td>-30.1811</td>\n",
       "      <td>-50.2056</td>\n",
       "      <td>63.59</td>\n",
       "      <td>84</td>\n",
       "      <td>77</td>\n",
       "      <td>3.83</td>\n",
       "    </tr>\n",
       "    <tr>\n",
       "      <th>9</th>\n",
       "      <td>port alfred</td>\n",
       "      <td>ZA</td>\n",
       "      <td>1625949842</td>\n",
       "      <td>-33.5906</td>\n",
       "      <td>26.8910</td>\n",
       "      <td>55.51</td>\n",
       "      <td>0</td>\n",
       "      <td>58</td>\n",
       "      <td>6.38</td>\n",
       "    </tr>\n",
       "    <tr>\n",
       "      <th>11</th>\n",
       "      <td>rikitea</td>\n",
       "      <td>PF</td>\n",
       "      <td>1625949843</td>\n",
       "      <td>-23.1203</td>\n",
       "      <td>-134.9692</td>\n",
       "      <td>73.89</td>\n",
       "      <td>83</td>\n",
       "      <td>74</td>\n",
       "      <td>18.63</td>\n",
       "    </tr>\n",
       "  </tbody>\n",
       "</table>\n",
       "</div>"
      ],
      "text/plain": [
       "      City Name Country        Date  Latitude  Longitude  Temperature  \\\n",
       "0       mataura      NZ  1625949840  -46.1927   168.8643        38.16   \n",
       "3         vaini      TO  1625949840  -21.2000  -175.2000        69.96   \n",
       "4      cidreira      BR  1625949840  -30.1811   -50.2056        63.59   \n",
       "9   port alfred      ZA  1625949842  -33.5906    26.8910        55.51   \n",
       "11      rikitea      PF  1625949843  -23.1203  -134.9692        73.89   \n",
       "\n",
       "    Cloudiness  Humidity  Wind Speed  \n",
       "0           98        99        3.36  \n",
       "3           75        94        5.75  \n",
       "4           84        77        3.83  \n",
       "9            0        58        6.38  \n",
       "11          83        74       18.63  "
      ]
     },
     "execution_count": 15,
     "metadata": {},
     "output_type": "execute_result"
    }
   ],
   "source": [
    "s_df = weather_df.loc[weather_df[\"Latitude\"] < 0]\n",
    "s_df.head()"
   ]
  },
  {
   "cell_type": "code",
   "execution_count": null,
   "metadata": {},
   "outputs": [],
   "source": []
  },
  {
   "cell_type": "markdown",
   "metadata": {},
   "source": [
    "####  Northern Hemisphere - Max Temp vs. Latitude Linear Regression"
   ]
  },
  {
   "cell_type": "code",
   "execution_count": 16,
   "metadata": {},
   "outputs": [
    {
     "data": {
      "image/png": "[encoded data removed]",
      "text/plain": [
       "<Figure size 432x288 with 1 Axes>"
      ]
     },
     "metadata": {
      "needs_background": "light"
     },
     "output_type": "display_data"
    }
   ],
   "source": [
    "x_values = n_df['Latitude']\n",
    "y_values = n_df['Temperature']\n",
    "(slope, intercept, rvalue, pvalue, stderr) = linregress(x_values, y_values)\n",
    "regress_values = x_values * slope + intercept\n",
    "line_eq = \"y = \" + str(round(slope,2)) + \"x + \" + str(round(intercept,2))\n",
    "plt.scatter(x_values,y_values)\n",
    "plt.plot(x_values,regress_values,\"r-\")\n",
    "plt.annotate(line_eq,(6,40),fontsize=15,color=\"red\")\n",
    "plt.xlabel('Latitude')\n",
    "plt.ylabel('Temperature')\n",
    "plt.show()"
   ]
  },
  {
   "cell_type": "markdown",
   "metadata": {},
   "source": [
    "####  Southern Hemisphere - Max Temp vs. Latitude Linear Regression"
   ]
  },
  {
   "cell_type": "code",
   "execution_count": 82,
   "metadata": {},
   "outputs": [
    {
     "data": {
      "image/png": "[encoded data removed]",
      "text/plain": [
       "<Figure size 432x288 with 1 Axes>"
      ]
     },
     "metadata": {
      "needs_background": "light"
     },
     "output_type": "display_data"
    }
   ],
   "source": [
    "x_values = s_df['Latitude']\n",
    "y_values = s_df['Temperature']\n",
    "(slope, intercept, rvalue, pvalue, stderr) = linregress(x_values, y_values)\n",
    "regress_values = x_values * slope + intercept\n",
    "line_eq = \"y = \" + str(round(slope,2)) + \"x + \" + str(round(intercept,2))\n",
    "plt.scatter(x_values,y_values)\n",
    "plt.plot(x_values,regress_values,\"r-\")\n",
    "plt.annotate(line_eq,(-25,40),fontsize=15,color=\"red\")\n",
    "plt.xlabel('Latitude')\n",
    "plt.ylabel('Temperature')\n",
    "plt.show()"
   ]
  },
  {
   "cell_type": "markdown",
   "metadata": {},
   "source": [
    "####  Northern Hemisphere - Humidity (%) vs. Latitude Linear Regression"
   ]
  },
  {
   "cell_type": "code",
   "execution_count": 29,
   "metadata": {},
   "outputs": [
    {
     "data": {
      "image/png": "[encoded data removed]",
      "text/plain": [
       "<Figure size 432x288 with 1 Axes>"
      ]
     },
     "metadata": {
      "needs_background": "light"
     },
     "output_type": "display_data"
    }
   ],
   "source": [
    "x_values = n_df['Latitude']\n",
    "y_values = n_df['Humidity']\n",
    "(slope, intercept, rvalue, pvalue, stderr) = linregress(x_values, y_values)\n",
    "regress_values = x_values * slope + intercept\n",
    "line_eq = \"y = \" + str(round(slope,2)) + \"x + \" + str(round(intercept,2))\n",
    "plt.scatter(x_values,y_values)\n",
    "plt.plot(x_values,regress_values,\"r-\")\n",
    "plt.annotate(line_eq,(40,10),fontsize=15,color=\"red\")\n",
    "plt.xlabel('Latitude')\n",
    "plt.ylabel('Humidity')\n",
    "plt.show()"
   ]
  },
  {
   "cell_type": "markdown",
   "metadata": {},
   "source": [
    "####  Southern Hemisphere - Humidity (%) vs. Latitude Linear Regression"
   ]
  },
  {
   "cell_type": "code",
   "execution_count": 81,
   "metadata": {},
   "outputs": [
    {
     "data": {
      "image/png": "[encoded data removed]",
      "text/plain": [
       "<Figure size 432x288 with 1 Axes>"
      ]
     },
     "metadata": {
      "needs_background": "light"
     },
     "output_type": "display_data"
    }
   ],
   "source": [
    "x_values = s_df['Latitude']\n",
    "y_values = s_df['Humidity']\n",
    "(slope, intercept, rvalue, pvalue, stderr) = linregress(x_values, y_values)\n",
    "regress_values = x_values * slope + intercept\n",
    "line_eq = \"y = \" + str(round(slope,2)) + \"x + \" + str(round(intercept,2))\n",
    "plt.scatter(x_values,y_values)\n",
    "plt.plot(x_values,regress_values,\"r-\")\n",
    "plt.annotate(line_eq,(-57,20),fontsize=15,color=\"red\")\n",
    "plt.xlabel('Latitude')\n",
    "plt.ylabel('Humidity')\n",
    "plt.show()"
   ]
  },
  {
   "cell_type": "markdown",
   "metadata": {},
   "source": [
    "####  Northern Hemisphere - Cloudiness (%) vs. Latitude Linear Regression"
   ]
  },
  {
   "cell_type": "code",
   "execution_count": 77,
   "metadata": {},
   "outputs": [
    {
     "data": {
      "image/png": "[encoded data removed]",
      "text/plain": [
       "<Figure size 432x288 with 1 Axes>"
      ]
     },
     "metadata": {
      "needs_background": "light"
     },
     "output_type": "display_data"
    }
   ],
   "source": [
    "x_values = n_df['Latitude']\n",
    "y_values = n_df['Cloudiness']\n",
    "(slope, intercept, rvalue, pvalue, stderr) = linregress(x_values, y_values)\n",
    "regress_values = x_values * slope + intercept\n",
    "line_eq = \"y = \" + str(round(slope,2)) + \"x + \" + str(round(intercept,2))\n",
    "plt.scatter(x_values,y_values)\n",
    "plt.plot(x_values,regress_values,\"r-\")\n",
    "plt.annotate(line_eq,(10,10),fontsize=15,color=\"red\")\n",
    "plt.xlabel('Latitude')\n",
    "plt.ylabel('Cloudiness')\n",
    "plt.show()"
   ]
  },
  {
   "cell_type": "markdown",
   "metadata": {},
   "source": [
    "####  Southern Hemisphere - Cloudiness (%) vs. Latitude Linear Regression"
   ]
  },
  {
   "cell_type": "code",
   "execution_count": 66,
   "metadata": {},
   "outputs": [
    {
     "data": {
      "image/png": "[encoded data removed]",
      "text/plain": [
       "<Figure size 432x288 with 1 Axes>"
      ]
     },
     "metadata": {
      "needs_background": "light"
     },
     "output_type": "display_data"
    }
   ],
   "source": [
    "x_values = s_df['Latitude']\n",
    "y_values = s_df['Cloudiness']\n",
    "(slope, intercept, rvalue, pvalue, stderr) = linregress(x_values, y_values)\n",
    "regress_values = x_values * slope + intercept\n",
    "line_eq = \"y = \" + str(round(slope,2)) + \"x + \" + str(round(intercept,2))\n",
    "plt.scatter(x_values,y_values)\n",
    "plt.plot(x_values,regress_values,\"r-\")\n",
    "plt.annotate(line_eq,(-55,25),fontsize=15,color=\"red\")\n",
    "plt.xlabel('Latitude')\n",
    "plt.ylabel('Cloudiness')\n",
    "plt.show()"
   ]
  },
  {
   "cell_type": "markdown",
   "metadata": {},
   "source": [
    "####  Northern Hemisphere - Wind Speed (mph) vs. Latitude Linear Regression"
   ]
  },
  {
   "cell_type": "code",
   "execution_count": 75,
   "metadata": {},
   "outputs": [
    {
     "data": {
      "image/png": "[encoded data removed]",
      "text/plain": [
       "<Figure size 432x288 with 1 Axes>"
      ]
     },
     "metadata": {
      "needs_background": "light"
     },
     "output_type": "display_data"
    }
   ],
   "source": [
    "x_values = n_df['Latitude']\n",
    "y_values = n_df['Wind Speed']\n",
    "(slope, intercept, rvalue, pvalue, stderr) = linregress(x_values, y_values)\n",
    "regress_values = x_values * slope + intercept\n",
    "line_eq = \"y = \" + str(round(slope,2)) + \"x + \" + str(round(intercept,2))\n",
    "plt.scatter(x_values,y_values)\n",
    "plt.plot(x_values,regress_values,\"r-\")\n",
    "plt.annotate(line_eq,(40,30),fontsize=15,color=\"red\")\n",
    "plt.xlabel('Latitude')\n",
    "plt.ylabel('Wind Speed')\n",
    "plt.show()"
   ]
  },
  {
   "cell_type": "markdown",
   "metadata": {},
   "source": [
    "####  Southern Hemisphere - Wind Speed (mph) vs. Latitude Linear Regression"
   ]
  },
  {
   "cell_type": "code",
   "execution_count": 76,
   "metadata": {},
   "outputs": [
    {
     "data": {
      "image/png": "[encoded data removed]",
      "text/plain": [
       "<Figure size 432x288 with 1 Axes>"
      ]
     },
     "metadata": {
      "needs_background": "light"
     },
     "output_type": "display_data"
    }
   ],
   "source": [
    "x_values = s_df['Latitude']\n",
    "y_values = s_df['Wind Speed']\n",
    "(slope, intercept, rvalue, pvalue, stderr) = linregress(x_values, y_values)\n",
    "regress_values = x_values * slope + intercept\n",
    "line_eq = \"y = \" + str(round(slope,2)) + \"x + \" + str(round(intercept,2))\n",
    "plt.scatter(x_values,y_values)\n",
    "plt.plot(x_values,regress_values,\"r-\")\n",
    "plt.annotate(line_eq,(-23,23),fontsize=15,color=\"red\")\n",
    "plt.xlabel('Latitude')\n",
    "plt.ylabel('Wind Speed')\n",
    "plt.show()"
   ]
  },
  {
   "cell_type": "code",
   "execution_count": null,
   "metadata": {},
   "outputs": [],
   "source": []
  }
 ],
 "metadata": {
  "anaconda-cloud": {},
  "kernel_info": {
   "name": "python3"
  },
  "kernelspec": {
   "display_name": "PythonData",
   "language": "python",
   "name": "pythondata"
  },
  "language_info": {
   "codemirror_mode": {
    "name": "ipython",
    "version": 3
   },
   "file_extension": ".py",
   "mimetype": "text/x-python",
   "name": "python",
   "nbconvert_exporter": "python",
   "pygments_lexer": "ipython3",
   "version": "3.9.2"
  },
  "latex_envs": {
   "LaTeX_envs_menu_present": true,
   "autoclose": false,
   "autocomplete": true,
   "bibliofile": "biblio.bib",
   "cite_by": "apalike",
   "current_citInitial": 1,
   "eqLabelWithNumbers": true,
   "eqNumInitial": 1,
   "hotkeys": {
    "equation": "Ctrl-E",
    "itemize": "Ctrl-I"
   },
   "labels_anchors": false,
   "latex_user_defs": false,
   "report_style_numbering": false,
   "user_envs_cfg": false
  },
  "nteract": {
   "version": "0.12.3"
  }
 },
 "nbformat": 4,
 "nbformat_minor": 2
}
